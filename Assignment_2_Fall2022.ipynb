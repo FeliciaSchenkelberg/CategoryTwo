{
  "cells": [
    {
      "cell_type": "markdown",
      "metadata": {
        "id": "view-in-github",
        "colab_type": "text"
      },
      "source": [
        "<a href=\"https://colab.research.google.com/github/FeliciaSchenkelberg/Algorithms-and-Data-Structure/blob/main/Assignment_2_Fall2022.ipynb\" target=\"_parent\"><img src=\"https://colab.research.google.com/assets/colab-badge.svg\" alt=\"Open In Colab\"/></a>"
      ]
    },
    {
      "cell_type": "markdown",
      "metadata": {
        "id": "Dd0qJjGWPDEY"
      },
      "source": [
        "# **ENGS 108 Fall 2022 Assignment 2**\n",
        "\n",
        "*Due September 30, 2022 at 11:59PM on Github*\n",
        "\n",
        "**Instructors:** George Cybenko\n",
        "\n",
        "**TAs:** Chase Yakaboski and Clement Nyanhongo\n",
        "\n",
        "\n",
        "---\n",
        "\n",
        "## **Rules and Requirements**\n",
        "\n",
        "\n",
        "1.   You are only allowed to use Python packages that are explicity imported in \n",
        "the assignment notebook or are standard (bultin) python libraries like random, os, sys, etc, (Standard Bultin Python libraries will have a Python.org documentation). For this assignment you may use:\n",
        "  *   [numpy](https://numpy.org/doc/stable/)\n",
        "  *   [pandas](https://pandas.pydata.org/pandas-docs/stable/index.html)\n",
        "  *   [scikit-learn](https://scikit-learn.org/stable/)\n",
        "  *   [matplotlib](https://matplotlib.org/)\n",
        "\n",
        "2.   All code must be fit into the designated code or text blocks in the assignment notebook. They are indentified by a **TODO** qualifier.\n",
        "\n",
        "3. For analytical questions that don't require code, type your answer cleanly in Markdown. For help, see the [Google Colab Markdown Guide](https://colab.research.google.com/notebooks/markdown_guide.ipynb).\n",
        "\n",
        "---\n"
      ]
    },
    {
      "cell_type": "code",
      "execution_count": 1,
      "metadata": {
        "id": "AD5eAz9acxe9"
      },
      "outputs": [],
      "source": [
        "''' Import Statements '''\n",
        "import numpy as np\n",
        "import pandas as pd\n",
        "import sklearn\n",
        "import matplotlib.pyplot as plt\n",
        "from copy import deepcopy\n",
        "from sklearn.linear_model import LinearRegression\n",
        "from scipy import signal\n",
        "from scipy import ndimage\n",
        "import matplotlib.collections as collections\n",
        "from sklearn.cluster import KMeans\n",
        "from sklearn.preprocessing import StandardScaler\n",
        "from sklearn.pipeline import make_pipeline\n",
        "from sklearn.neighbors import KNeighborsClassifier\n",
        "from sklearn.metrics import confusion_matrix\n",
        "from sklearn.tree import DecisionTreeClassifier"
      ]
    },
    {
      "cell_type": "code",
      "source": [
        "from google.colab import drive\n",
        "drive.mount('/content/drive')"
      ],
      "metadata": {
        "colab": {
          "base_uri": "https://localhost:8080/"
        },
        "id": "yY8bpIZKtIi6",
        "outputId": "abf3c674-fae5-48ac-86af-855ab0e82051"
      },
      "execution_count": 2,
      "outputs": [
        {
          "output_type": "stream",
          "name": "stdout",
          "text": [
            "Mounted at /content/drive\n"
          ]
        }
      ]
    },
    {
      "cell_type": "markdown",
      "metadata": {
        "id": "aFcqjf9VXHfF"
      },
      "source": [
        "# **Data Loading**\n",
        "Upload the red and synthetic datasets to your google colab session using Google Drive. Read the following [tutorial](https://github.com/Thayer-ENGS108/Assignment_2_Fall2022) for how to get setup. "
      ]
    },
    {
      "cell_type": "code",
      "execution_count": 3,
      "metadata": {
        "id": "gSQSg2HkXaHF"
      },
      "outputs": [],
      "source": [
        "#TODO: Set your base datasets path. This is my base path, you will need to change to match yours. \n",
        "dataset_base_path = '/content/drive/MyDrive/datasets'"
      ]
    },
    {
      "cell_type": "code",
      "execution_count": 4,
      "metadata": {
        "id": "-r2Nya5yV3hW"
      },
      "outputs": [],
      "source": [
        "#-- Everything else you should not need to change.\n",
        "import os\n",
        "import pickle\n",
        "\n",
        "#-- Gather paths\n",
        "synth_data_path = os.path.join(dataset_base_path, 'assign_2_synth_data.pk')\n",
        "red_train_path = os.path.join(dataset_base_path, 'red_train.csv')\n",
        "red_valid_path = os.path.join(dataset_base_path, 'red_valid.csv')\n",
        "red_test_path = os.path.join(dataset_base_path, 'red_test.csv')\n",
        "synth_train_path = os.path.join(dataset_base_path, 'synth_train.csv')\n",
        "synth_valid_path = os.path.join(dataset_base_path, 'synth_valid.csv')\n",
        "synth_test_path = os.path.join(dataset_base_path, 'synth_test.csv')\n",
        "\n",
        "#-- Load Synth_Data\n",
        "with open(synth_data_path, 'rb') as f_:\n",
        "  synth_data = pickle.load(f_)\n",
        "\n",
        "#-- Load Red Wine Data\n",
        "red_train_df = pd.read_csv(red_train_path)\n",
        "red_valid_df = pd.read_csv(red_valid_path)\n",
        "red_test_df = pd.read_csv(red_test_path)\n",
        "synth_train_df = pd.read_csv(synth_train_path)\n",
        "synth_valid_df = pd.read_csv(synth_valid_path)\n",
        "synth_test_df = pd.read_csv(synth_test_path)\n",
        "\n",
        "#-- Data is stored in a tuple of format (X, y) and are already converted to numpy arrays.\n",
        "red_train = (red_train_df.drop('quality', axis=1).to_numpy(), red_train_df['quality'].to_numpy())\n",
        "red_valid = (red_valid_df.drop('quality', axis=1).to_numpy(), red_valid_df['quality'].to_numpy())\n",
        "red_test = (red_test_df.drop('quality', axis=1).to_numpy(), red_test_df['quality'].to_numpy())\n",
        "\n",
        "#-- Load in Synth train, valid, test data with tuple format (X, y)\n",
        "synth_train = (synth_train_df.drop('y', axis=1).to_numpy(), synth_train_df['y'].to_numpy())\n",
        "synth_valid = (synth_valid_df.drop('y', axis=1).to_numpy(), synth_valid_df['y'].to_numpy())\n",
        "synth_test = (synth_test_df.drop('y', axis=1).to_numpy(), synth_test_df['y'].to_numpy())"
      ]
    },
    {
      "cell_type": "markdown",
      "metadata": {
        "id": "mty9AB1bd5hH"
      },
      "source": [
        "## **Problem 1: $K$-Means Clustering**\n",
        "In this problem, you will solve a clustering\n",
        "task using the k-means algorithm and an associated classification task using $k$ nearest neighbors algorithm, both of which you learned in class. The dataset for this problem is a synthetic two-dimensional dataset *synth_data*. Each entry has two features $(x_1, x_2)$.\n",
        ">\n",
        "> **Part 1** A reasonable first step in every machine learning task is to understand the dataset at hand. Proceed to explore this problem’s dataset by addressing the following:\n",
        ">> **(a)** Choose a suitable type of plot and visualize the training data."
      ]
    },
    {
      "cell_type": "code",
      "execution_count": 5,
      "metadata": {
        "id": "zA0BN4jbfHe5",
        "colab": {
          "base_uri": "https://localhost:8080/",
          "height": 265
        },
        "outputId": "89f3d870-bd4d-4992-c81c-4bb167bc4f1e"
      },
      "outputs": [
        {
          "output_type": "display_data",
          "data": {
            "text/plain": [
              "<Figure size 432x288 with 1 Axes>"
            ],
            "image/png": "[encoded data removed]"
          },
          "metadata": {
            "needs_background": "light"
          }
        }
      ],
      "source": [
        "#TODO: Write your code here. Use matplotlib for visualization.\n",
        "# Python | Split nested list into two lists\n",
        "x1, x2 = zip(*synth_data)\n",
        "\n",
        "# Read all datapoints\n",
        "plt.scatter(x1, x2, label='synth_data')\n",
        "\n",
        "# Draw Scatterplot\n",
        "plt.legend()\n",
        "plt.show()"
      ]
    },
    {
      "cell_type": "code",
      "source": [
        "# Elbow Graph for synth_data\n",
        "K = range(1, 11)\n",
        "inertias = []\n",
        "\n",
        "for k in K:\n",
        "    # Build and Fit The Model\n",
        "    KMeans_model = KMeans(n_clusters=k)\n",
        "    KMeans_model.fit(synth_data)\n",
        "    inertias.append(KMeans_model.inertia_)\n",
        "\t\n",
        "plt.plot(K, inertias)"
      ],
      "metadata": {
        "colab": {
          "base_uri": "https://localhost:8080/",
          "height": 282
        },
        "id": "pYT7howwzyyR",
        "outputId": "bd543afe-b4d8-43af-90fd-8cff40828d49"
      },
      "execution_count": 6,
      "outputs": [
        {
          "output_type": "execute_result",
          "data": {
            "text/plain": [
              "[<matplotlib.lines.Line2D at 0x7fe818c96210>]"
            ]
          },
          "metadata": {},
          "execution_count": 6
        },
        {
          "output_type": "display_data",
          "data": {
            "text/plain": [
              "<Figure size 432x288 with 1 Axes>"
            ],
            "image/png": "[encoded data removed]"
          },
          "metadata": {
            "needs_background": "light"
          }
        }
      ]
    },
    {
      "cell_type": "markdown",
      "metadata": {
        "id": "T_Ln5qixfHwt"
      },
      "source": [
        ">> **(b)** From your plot, how many clusters, $k$, would you estimate are represented in the dataset?"
      ]
    },
    {
      "cell_type": "markdown",
      "metadata": {
        "id": "iAbCaDqZbL1x"
      },
      "source": [
        "**TODO:** *From my plot, there appear to be 4 clusters represented in the dataset.*"
      ]
    },
    {
      "cell_type": "markdown",
      "metadata": {
        "id": "Bgn4c2MOg0iJ"
      },
      "source": [
        "> **Part 2** Build a model.\n",
        ">> **(a)** Using the k-Means algorithm, implement a clustering model. *Hint: Use [scikit-learn's K-means library](https://scikit-learn.org/stable/modules/generated/sklearn.cluster.KMeans.html).*"
      ]
    },
    {
      "cell_type": "code",
      "execution_count": 7,
      "metadata": {
        "id": "FTw1K-iDg_MB"
      },
      "outputs": [],
      "source": [
        "#TODO: Write your code here. Hint: Just define a model, don't train yet.\n",
        "scaler = StandardScaler()\n",
        "clustering_model = KMeans(n_clusters=4)\n",
        "\n",
        "pipeline_1 = make_pipeline(scaler, clustering_model)"
      ]
    },
    {
      "cell_type": "markdown",
      "metadata": {
        "id": "XzcU0DxOg_nP"
      },
      "source": [
        ">> **(b)** Train the clustering model on several reasonable values of $k$, taking into account your visual inspection from 1b. Plot the sum of distance (SSE) from each data point and its respective cluster for 10 different values of $k$."
      ]
    },
    {
      "cell_type": "code",
      "execution_count": 8,
      "metadata": {
        "id": "mBApnd9Fg_05",
        "colab": {
          "base_uri": "https://localhost:8080/"
        },
        "outputId": "a394e705-5821-485b-8975-f28edf38cf99"
      },
      "outputs": [
        {
          "output_type": "execute_result",
          "data": {
            "text/plain": [
              "Pipeline(steps=[('standardscaler', StandardScaler()),\n",
              "                ('kmeans', KMeans(n_clusters=4))])"
            ]
          },
          "metadata": {},
          "execution_count": 8
        }
      ],
      "source": [
        "def train(model, data):\n",
        "  ''' Using your model above, implement a function that will train your K-means\n",
        "  for different values of k on your dataset and return the trained model'''\n",
        "  model.fit(data)\n",
        "  return model\n",
        "  \n",
        "train(pipeline_1, synth_data)"
      ]
    },
    {
      "cell_type": "code",
      "execution_count": 9,
      "metadata": {
        "id": "dEOowF_m3bJO",
        "colab": {
          "base_uri": "https://localhost:8080/",
          "height": 38
        },
        "outputId": "b7698636-ab62-4fd1-ee09-886bea554d3f"
      },
      "outputs": [
        {
          "output_type": "execute_result",
          "data": {
            "text/plain": [
              "\"\\ndef calculateSSE(data):\\n  ''' Using a trained model calculate the SSE for the model '''\\n\""
            ],
            "application/vnd.google.colaboratory.intrinsic+json": {
              "type": "string"
            }
          },
          "metadata": {},
          "execution_count": 9
        }
      ],
      "source": [
        "\"\"\"\n",
        "def calculateSSE(data):\n",
        "  ''' Using a trained model calculate the SSE for the model '''\n",
        "\"\"\"\n",
        "\n",
        "#SEE ELBOW GRAPH FOR MODEL SSE"
      ]
    },
    {
      "cell_type": "code",
      "execution_count": 10,
      "metadata": {
        "id": "v8Dcu3Bp4U2J"
      },
      "outputs": [],
      "source": [
        "#TODO: Choose 10 different values of k based on your inspection and plot the SSE scores.\n",
        "#SEE ELBOW GRAPH FOR A RANGE OF K = 10"
      ]
    },
    {
      "cell_type": "markdown",
      "metadata": {
        "id": "Udx0GcDrhALm"
      },
      "source": [
        ">> **(c)** What value of $k$ is optimal? How does it compare to your visual inspection?\n"
      ]
    },
    {
      "cell_type": "code",
      "source": [
        "# As stated above, the optimal value of k is 4.\n",
        "figure = plt.figure()\n",
        "figure, axes = plt.subplots()\n",
        "\n",
        "centroids = KMeans(n_clusters=4).fit(synth_data)\n",
        "z1, z2 = zip(*centroids.cluster_centers_)\n",
        "\n",
        "axes.scatter(x1, x2, label='synth_data')\n",
        "axes.scatter(z1, z2, label='centroids')\n",
        "\n",
        "plt.legend()\n",
        "plt.show()"
      ],
      "metadata": {
        "colab": {
          "base_uri": "https://localhost:8080/",
          "height": 282
        },
        "id": "PWIG8B4d-Vw7",
        "outputId": "fbade3ef-8b55-4832-c6f8-97909dba7415"
      },
      "execution_count": 11,
      "outputs": [
        {
          "output_type": "display_data",
          "data": {
            "text/plain": [
              "<Figure size 432x288 with 0 Axes>"
            ]
          },
          "metadata": {}
        },
        {
          "output_type": "display_data",
          "data": {
            "text/plain": [
              "<Figure size 432x288 with 1 Axes>"
            ],
            "image/png": "[encoded data removed]"
          },
          "metadata": {
            "needs_background": "light"
          }
        }
      ]
    },
    {
      "cell_type": "markdown",
      "metadata": {
        "id": "c905CDZt4_k1"
      },
      "source": [
        "**TODO:** *Type your answer in Markdown here.*\n",
        "\n"
      ]
    },
    {
      "cell_type": "code",
      "execution_count": 12,
      "metadata": {
        "id": "8pFw9xJn5BNE"
      },
      "outputs": [],
      "source": [
        "#TODO: Write code and plot a graph showing the optimal value of k.\n",
        "# SEE SCATTER PLOT ABOVE - Shows the optimal value of k"
      ]
    },
    {
      "cell_type": "markdown",
      "metadata": {
        "id": "tSJ9s6hN5TUu"
      },
      "source": [
        "# **Problem 2: $k$-NN Classification**\n",
        "In this problem, you will utilize data deriving\n",
        "from the same synthetic dataset as above. This time, the data has been separated into *synth_train*, *synth_valid* and *synth_test* arrays. Furthermore, each sample now includes a class label found in the $y$ column. These class labels come from the set $\\{1, 2, . . . , 31\\}$. *Note: These are not the same datasets as Problem 1.* \n",
        "\n",
        "> **Part 1** Train an implementation of the $k$-Nearest Neighbors algorithm on the training dataset. Note that $k$ here refers to the number of neighbors, not clusters."
      ]
    },
    {
      "cell_type": "code",
      "execution_count": 13,
      "metadata": {
        "id": "0Lzq0T1555gV",
        "colab": {
          "base_uri": "https://localhost:8080/"
        },
        "outputId": "fe1f97a9-3e9b-4f5d-a229-481b7d12b7f4"
      },
      "outputs": [
        {
          "output_type": "execute_result",
          "data": {
            "text/plain": [
              "Pipeline(steps=[('standardscaler', StandardScaler()),\n",
              "                ('kneighborsclassifier', KNeighborsClassifier())])"
            ]
          },
          "metadata": {},
          "execution_count": 13
        }
      ],
      "source": [
        "x = synth_train_df.drop(\"y\", axis=1)\n",
        "y = synth_train_df.y\n",
        "\n",
        "''' Implement a function that will train a k-NN\n",
        "for different values of k on your dataset and return the trained model'''\n",
        "scaler = StandardScaler()\n",
        "nearest_neighbors = KNeighborsClassifier()\n",
        "\n",
        "KNeighborsClassifier_model = make_pipeline(scaler, nearest_neighbors)\n",
        "\n",
        "KNeighborsClassifier_model.fit(x, y)"
      ]
    },
    {
      "cell_type": "markdown",
      "metadata": {
        "id": "eaCsGyAq550M"
      },
      "source": [
        "> **Part 2** Report the classification accuracy of this model on the validation set for different values for $k$. Plot these accuracies against $k$ and report the optimal value for $k$."
      ]
    },
    {
      "cell_type": "code",
      "execution_count": 14,
      "metadata": {
        "id": "7sLOw8_u56Lw",
        "colab": {
          "base_uri": "https://localhost:8080/"
        },
        "outputId": "f50916e9-e220-4816-e0f3-749b9c4846a9"
      },
      "outputs": [
        {
          "output_type": "execute_result",
          "data": {
            "text/plain": [
              "0.9709677419354839"
            ]
          },
          "metadata": {},
          "execution_count": 14
        }
      ],
      "source": [
        "#TODO: Write your code here.\n",
        "x_test = synth_test_df.drop(\"y\", axis=1)\n",
        "y_test = synth_test_df.y\n",
        "\n",
        "KNeighborsClassifier_model.score(x_test, y_test)"
      ]
    },
    {
      "cell_type": "markdown",
      "metadata": {
        "id": "pvzjgCff56r4"
      },
      "source": [
        "> **Part 3** Report the classification precision, recall and F1-score of this model on the data in synth test.csv using the optimal value of $k$ that you found in Part 2."
      ]
    },
    {
      "cell_type": "code",
      "execution_count": 15,
      "metadata": {
        "id": "0YQm5vtb56x6",
        "colab": {
          "base_uri": "https://localhost:8080/"
        },
        "outputId": "e470a8d8-258b-440b-b1a3-a825b8268923"
      },
      "outputs": [
        {
          "output_type": "execute_result",
          "data": {
            "text/plain": [
              "array([[22,  0,  0,  0,  0,  0,  0,  0,  0,  0,  0,  0,  0,  0,  0,  0,\n",
              "         0,  0,  0,  0,  0,  0,  0,  0,  0,  0,  0,  0,  0,  0,  0],\n",
              "       [ 0, 27,  0,  0,  0,  0,  0,  0,  0,  0,  0,  0,  0,  0,  0,  0,\n",
              "         0,  0,  0,  0,  0,  0,  0,  0,  0,  0,  0,  0,  0,  0,  0],\n",
              "       [ 0,  0, 35,  0,  0,  0,  0,  0,  0,  0,  0,  0,  0,  0,  0,  0,\n",
              "         0,  0,  1,  0,  0,  0,  0,  0,  0,  0,  0,  0,  0,  0,  0],\n",
              "       [ 0,  0,  0, 36,  0,  0,  0,  0,  0,  0,  0,  0,  0,  0,  0,  0,\n",
              "         0,  0,  0,  0,  0,  0,  2,  2,  0,  0,  0,  0,  0,  0,  0],\n",
              "       [ 0,  0,  0,  0, 27,  0,  0,  0,  0,  0,  0,  0,  0,  0,  0,  0,\n",
              "         0,  0,  0,  0,  2,  0,  0,  0,  0,  0,  0,  0,  0,  0,  2],\n",
              "       [ 0,  0,  0,  0,  0, 34,  0,  0,  0,  0,  0,  0,  0,  0,  0,  0,\n",
              "         0,  0,  0,  0,  0,  0,  0,  0,  0,  0,  0,  0,  0,  0,  0],\n",
              "       [ 0,  0,  0,  0,  0,  0, 36,  0,  0,  0,  0,  0,  0,  0,  0,  0,\n",
              "         0,  0,  0,  0,  0,  0,  0,  0,  0,  0,  0,  0,  0,  0,  0],\n",
              "       [ 0,  0,  0,  0,  0,  0,  0, 17,  0,  2,  0,  0,  0,  1,  0,  0,\n",
              "         0,  0,  0,  0,  0,  0,  0,  0,  0,  0,  0,  0,  0,  0,  0],\n",
              "       [ 0,  0,  0,  0,  0,  0,  0,  0, 28,  0,  0,  0,  0,  0,  0,  0,\n",
              "         0,  0,  0,  0,  0,  0,  0,  0,  0,  0,  0,  0,  0,  0,  0],\n",
              "       [ 0,  0,  0,  0,  0,  0,  0,  1,  0, 28,  0,  0,  0,  0,  0,  0,\n",
              "         0,  0,  0,  0,  0,  0,  0,  0,  0,  0,  0,  0,  0,  0,  0],\n",
              "       [ 0,  0,  0,  0,  0,  0,  0,  0,  0,  0, 29,  0,  0,  0,  0,  0,\n",
              "         0,  0,  0,  0,  0,  0,  0,  0,  0,  0,  0,  0,  0,  0,  0],\n",
              "       [ 0,  0,  0,  0,  0,  0,  0,  0,  0,  0,  0, 31,  0,  0,  0,  0,\n",
              "         0,  1,  0,  0,  0,  0,  0,  0,  0,  0,  0,  0,  0,  0,  0],\n",
              "       [ 0,  1,  0,  0,  0,  0,  0,  0,  0,  0,  0,  0, 25,  0,  0,  0,\n",
              "         0,  0,  0,  0,  0,  0,  0,  0,  0,  0,  0,  0,  0,  0,  0],\n",
              "       [ 0,  0,  0,  0,  0,  0,  0,  0,  0,  0,  0,  0,  0, 20,  0,  0,\n",
              "         0,  0,  0,  0,  0,  0,  0,  0,  0,  0,  0,  0,  0,  0,  0],\n",
              "       [ 0,  0,  0,  0,  0,  0,  0,  0,  0,  0,  0,  0,  0,  0, 34,  0,\n",
              "         0,  0,  0,  0,  0,  0,  0,  0,  0,  0,  0,  0,  0,  0,  0],\n",
              "       [ 0,  0,  0,  0,  0,  0,  0,  0,  0,  0,  0,  0,  0,  0,  0, 30,\n",
              "         0,  0,  0,  0,  0,  0,  0,  0,  0,  0,  0,  0,  0,  0,  0],\n",
              "       [ 0,  0,  0,  0,  0,  0,  0,  0,  0,  0,  0,  0,  0,  0,  0,  0,\n",
              "        35,  0,  0,  0,  0,  0,  0,  0,  0,  0,  0,  0,  0,  0,  0],\n",
              "       [ 0,  0,  0,  0,  0,  0,  0,  0,  0,  0,  0,  1,  0,  0,  0,  0,\n",
              "         0, 31,  0,  0,  0,  0,  0,  0,  0,  0,  0,  0,  0,  0,  0],\n",
              "       [ 0,  0,  1,  0,  0,  0,  0,  0,  0,  0,  0,  0,  0,  0,  0,  0,\n",
              "         0,  0, 22,  0,  0,  0,  0,  0,  0,  0,  0,  0,  0,  0,  0],\n",
              "       [ 0,  0,  0,  0,  0,  0,  0,  0,  0,  0,  0,  0,  0,  0,  0,  0,\n",
              "         0,  0,  0, 37,  0,  0,  0,  0,  0,  0,  0,  0,  0,  0,  0],\n",
              "       [ 0,  0,  0,  0,  1,  0,  0,  0,  0,  0,  0,  0,  0,  0,  0,  0,\n",
              "         0,  0,  0,  0, 30,  0,  0,  0,  0,  0,  0,  0,  0,  0,  0],\n",
              "       [ 0,  0,  0,  0,  0,  0,  0,  0,  0,  0,  0,  0,  0,  0,  0,  0,\n",
              "         0,  0,  0,  0,  0, 29,  0,  0,  0,  0,  0,  0,  0,  0,  0],\n",
              "       [ 0,  0,  0,  1,  0,  0,  0,  0,  0,  0,  0,  0,  0,  0,  0,  0,\n",
              "         0,  0,  0,  0,  0,  0, 30,  0,  0,  0,  0,  0,  0,  0,  0],\n",
              "       [ 0,  0,  0,  3,  0,  0,  0,  0,  0,  0,  0,  0,  0,  0,  0,  0,\n",
              "         0,  1,  0,  0,  0,  0,  0, 30,  0,  0,  0,  0,  0,  0,  0],\n",
              "       [ 0,  0,  0,  0,  0,  0,  0,  0,  0,  0,  0,  0,  0,  0,  0,  0,\n",
              "         0,  0,  0,  0,  0,  0,  0,  0, 33,  0,  0,  0,  0,  0,  0],\n",
              "       [ 0,  0,  0,  0,  0,  0,  0,  0,  0,  0,  0,  1,  0,  0,  1,  0,\n",
              "         0,  0,  0,  0,  0,  0,  0,  0,  0, 23,  0,  0,  0,  0,  0],\n",
              "       [ 0,  0,  0,  0,  0,  0,  0,  0,  0,  0,  0,  0,  0,  0,  0,  0,\n",
              "         0,  0,  0,  0,  0,  0,  0,  0,  0,  0, 36,  0,  0,  0,  0],\n",
              "       [ 0,  0,  0,  0,  0,  0,  0,  0,  0,  0,  0,  0,  0,  0,  0,  0,\n",
              "         0,  0,  0,  0,  1,  0,  0,  0,  0,  0,  0, 35,  0,  0,  0],\n",
              "       [ 0,  0,  0,  0,  0,  0,  0,  0,  0,  0,  0,  0,  0,  0,  0,  0,\n",
              "         0,  0,  0,  0,  0,  0,  0,  0,  0,  0,  0,  0, 23,  0,  0],\n",
              "       [ 0,  0,  0,  0,  0,  0,  0,  0,  0,  0,  0,  0,  0,  0,  0,  0,\n",
              "         0,  0,  0,  0,  0,  0,  0,  0,  0,  0,  0,  0,  0, 31,  0],\n",
              "       [ 0,  0,  0,  0,  0,  0,  0,  0,  0,  0,  0,  0,  0,  0,  0,  1,\n",
              "         0,  0,  0,  0,  0,  0,  0,  0,  0,  0,  0,  0,  0,  0, 19]])"
            ]
          },
          "metadata": {},
          "execution_count": 15
        }
      ],
      "source": [
        "#TODO: Write your code here.\n",
        "y_pred = KNeighborsClassifier_model.predict(x_test)\n",
        "\n",
        "confusion_matrix(y_test, y_pred)"
      ]
    },
    {
      "cell_type": "markdown",
      "metadata": {
        "id": "NZVKAG2E64s5"
      },
      "source": [
        "# **Problem 3: Decision Tree Classification**\n",
        "In this problem you will use decision\n",
        "trees to classify the quality of red vinho verde wine samples based on their physicochemical properties. The dataset has been separated into *red_train, red_valid and red_test* arrays. For all of these files, the rightmost column (“quality”) is the target label for each datapoint. All other columns are features.\n",
        "\n",
        "> **Part 1** First let’s explore the datasets through the following exercises. Note that we cannot plot the data in a meaningful way given that number of features exceed the physical dimensions.\n",
        "\n",
        ">> **(a)** How many datapoints are in the training, validation, and testing sets?"
      ]
    },
    {
      "cell_type": "code",
      "execution_count": 16,
      "metadata": {
        "id": "XoDNjQON7nxS",
        "colab": {
          "base_uri": "https://localhost:8080/"
        },
        "outputId": "f591f748-bd65-455d-bb8e-9d758bbdc825"
      },
      "outputs": [
        {
          "output_type": "execute_result",
          "data": {
            "text/plain": [
              "1599"
            ]
          },
          "metadata": {},
          "execution_count": 16
        }
      ],
      "source": [
        "#TODO: Write your code here.\n",
        "# Number of datapoints in the training, validation, and testing sets\n",
        "len(red_train_df) + len(red_valid_df) + len(red_test_df)"
      ]
    },
    {
      "cell_type": "markdown",
      "metadata": {
        "id": "K0Yt1Yaf7oEF"
      },
      "source": [
        ">> **(b)** How many features are available for each datapoint?"
      ]
    },
    {
      "cell_type": "code",
      "execution_count": 17,
      "metadata": {
        "id": "o5xtChuE7oSN",
        "colab": {
          "base_uri": "https://localhost:8080/"
        },
        "outputId": "9446d4ad-e010-4020-9b5a-a34e35371fd7"
      },
      "outputs": [
        {
          "output_type": "execute_result",
          "data": {
            "text/plain": [
              "Index(['fixed acidity', 'volatile acidity', 'citric acid', 'residual sugar',\n",
              "       'chlorides', 'free sulfur dioxide', 'total sulfur dioxide', 'density',\n",
              "       'pH', 'sulphates', 'alcohol', 'quality'],\n",
              "      dtype='object')"
            ]
          },
          "metadata": {},
          "execution_count": 17
        }
      ],
      "source": [
        "#TODO: Write your code here.\n",
        "red_train_df.columns\n",
        "\n",
        "# 12 features are available for each datapoint"
      ]
    },
    {
      "cell_type": "markdown",
      "metadata": {
        "id": "UVyz3oIb7obw"
      },
      "source": [
        ">> **(c)** What are the average *alcohol* and *pH* values for *training* samples?"
      ]
    },
    {
      "cell_type": "code",
      "execution_count": 18,
      "metadata": {
        "id": "0OsKVlUH7o_K",
        "colab": {
          "base_uri": "https://localhost:8080/"
        },
        "outputId": "5178001f-2697-412f-97e6-9c5c31019898"
      },
      "outputs": [
        {
          "output_type": "execute_result",
          "data": {
            "text/plain": [
              "alcohol    10.397952\n",
              "pH          3.309542\n",
              "dtype: float64"
            ]
          },
          "metadata": {},
          "execution_count": 18
        }
      ],
      "source": [
        "#TODO: Write your code here.\n",
        "red_train_df[[\"alcohol\",\"pH\"]].mean()"
      ]
    },
    {
      "cell_type": "markdown",
      "metadata": {
        "id": "tBZ-bK0A8Bsm"
      },
      "source": [
        "> **Part 2** Decision Trees.\n",
        "\n",
        ">> **(a)** Implement a binary decision tree model for the training data. *Hint: Try looking at the [scikit-learn decision tree library](https://scikit-learn.org/stable/modules/generated/sklearn.tree.DecisionTreeClassifier.html?highlight=decision%20tree#sklearn.tree.DecisionTreeClassifier).*"
      ]
    },
    {
      "cell_type": "code",
      "execution_count": 19,
      "metadata": {
        "id": "5wTQK93A8jwe",
        "colab": {
          "base_uri": "https://localhost:8080/"
        },
        "outputId": "bd9b63c5-09ec-47be-d466-6bf906b45bab"
      },
      "outputs": [
        {
          "output_type": "execute_result",
          "data": {
            "text/plain": [
              "Pipeline(steps=[('standardscaler', StandardScaler()),\n",
              "                ('decisiontreeclassifier', DecisionTreeClassifier())])"
            ]
          },
          "metadata": {},
          "execution_count": 19
        }
      ],
      "source": [
        "x = red_train_df.drop(\"quality\", axis=1)\n",
        "y = red_train_df.quality\n",
        "\n",
        "''' Implement a function that will train a decision tree model\n",
        "on your dataset and return the trained model'''\n",
        "scaler = StandardScaler()\n",
        "decision_tree = DecisionTreeClassifier()\n",
        "\n",
        "DecisionTreeClassifier_model = make_pipeline(scaler, decision_tree)\n",
        "DecisionTreeClassifier_model.fit(x, y)"
      ]
    },
    {
      "cell_type": "markdown",
      "metadata": {
        "id": "BxZJJn3Z86X6"
      },
      "source": [
        ">> **(b)** There are a number of hyperparameters that can be tuned to improve your model, one of which is the criteria for ending the splitting process. Two common ways of terminating the splitting process are *maximum depth* of the tree or *minimum number of samples* left. Tune the *maximum depth* of the tree by reporting the accuracy of the classifier in 2a on the validation set for different settings of *maximum depth*. Plot your findings."
      ]
    },
    {
      "cell_type": "code",
      "execution_count": 20,
      "metadata": {
        "id": "4jA6sF8X9VPy",
        "colab": {
          "base_uri": "https://localhost:8080/"
        },
        "outputId": "8dd8f8dc-c690-41ec-f0ed-b1fde9e2a366"
      },
      "outputs": [
        {
          "output_type": "execute_result",
          "data": {
            "text/plain": [
              "0.5895833333333333"
            ]
          },
          "metadata": {},
          "execution_count": 20
        }
      ],
      "source": [
        "#TODO: Write your code here and plot your results.\n",
        "x_test = red_test_df.drop(\"quality\", axis=1)\n",
        "y_test = red_test_df.quality\n",
        "\n",
        "DecisionTreeClassifier_model.score(x_test, y_test)"
      ]
    },
    {
      "cell_type": "markdown",
      "metadata": {
        "id": "7_0VndV69z6H"
      },
      "source": [
        ">> **(c)** Use the optimum setting of *maximum depth* found in 2b to report the accuracy of the classifier on the *test* dataset."
      ]
    },
    {
      "cell_type": "code",
      "execution_count": 21,
      "metadata": {
        "id": "N-IBzhZ_9kOv",
        "colab": {
          "base_uri": "https://localhost:8080/"
        },
        "outputId": "24e42e0d-107c-4ac9-a8bf-b6122e379157"
      },
      "outputs": [
        {
          "output_type": "execute_result",
          "data": {
            "text/plain": [
              "array([[  0,   0,   1,   2,   0,   0],\n",
              "       [  0,   2,  14,   6,   0,   0],\n",
              "       [  3,   4, 147,  55,   6,   1],\n",
              "       [  3,   2,  41, 108,  16,   6],\n",
              "       [  1,   1,   9,  22,  26,   2],\n",
              "       [  0,   0,   0,   2,   0,   0]])"
            ]
          },
          "metadata": {},
          "execution_count": 21
        }
      ],
      "source": [
        "#TODO: Write\n",
        "y_pred = DecisionTreeClassifier_model.predict(x_test)\n",
        "\n",
        "confusion_matrix(y_test, y_pred)"
      ]
    },
    {
      "cell_type": "markdown",
      "source": [
        ">> **(c)** Use the optimum setting of *maximum depth* found in 2b to report the accuracy of the classifier on the *test* dataset."
      ],
      "metadata": {
        "id": "W324RuggyevE"
      }
    },
    {
      "cell_type": "markdown",
      "metadata": {
        "id": "gl-go5CevthF"
      },
      "source": [
        "# **Problem 4: Systems - Estimating ODE Parameters**\n",
        "\n",
        "Many real-world systems can be modelled by linear diffferential equations. Some of the most common examples are mechanical and electrical oscillations (see mass-spring example below) which can be described by the solution of an initial value problem of the form:\n",
        "\n",
        "$$𝑎𝑥″+𝑏𝑥′+𝑐𝑥=𝑔(𝑡)  \\tag{1}$$    \n",
        "\n",
        ", where initial condition are given by:       $𝑥(0)=𝑥0$,   $𝑥′(0)=𝑥′0$                    \n",
        " \n",
        "For our problems, we will assume that $g(t) = 0$, no external force (for spring system etc)\n",
        "\n",
        "![Url](https://benmoseley.blog/wp-content/uploads/2021/08/oscillator.gif)\n"
      ]
    },
    {
      "cell_type": "markdown",
      "metadata": {
        "id": "_sF_034avthF"
      },
      "source": [
        ">**Part 1** Lets generate some synthetic data using an ODE for a vibration with no damping in chapter 3.7 Example 4 (Source: Elementary Differential Equations and Boundary Value Problems by Boyce & DiPrima, Wiley 2017).\n",
        "In this system, $$ x'' + 0.125x' + x= 0 \\tag{2}$$ \n",
        "and the analytical solution is the function below:\n"
      ]
    },
    {
      "cell_type": "code",
      "execution_count": 22,
      "metadata": {
        "id": "oGrCSL5svthG"
      },
      "outputs": [],
      "source": [
        "t = np.linspace(0, 30*np.pi, 1000)   # time\n",
        "x_funct = lambda t: (32/np.sqrt(255))*np.exp(-1*t/16)*np.cos((np.sqrt(255)/16)*t -0.06254)  # function to get x given t\n",
        "\n",
        "# analytic function x given t \n",
        "x_analytic = x_funct(t)"
      ]
    },
    {
      "cell_type": "markdown",
      "metadata": {
        "id": "VI3JXXP5vthG"
      },
      "source": [
        ">> **(a)** Now lets assume we have observed a noisy sample composed of the first 20% of x_analytic. Create noisy data for the first 20% of x_analytic"
      ]
    },
    {
      "cell_type": "code",
      "source": [
        "t = np.linspace(0, 30*np.pi, 1000)\n",
        "x_analytic = x_funct(t)\n",
        "\n",
        "\n",
        "NOISY_FACTOR = 5\n",
        "len_t = int(len(t))\n",
        "\n",
        "noise = noise = np.array(np.random.random(len_t) - 0.5)/NOISY_FACTOR\n",
        "\n",
        "x_noisy = x_analytic + noise"
      ],
      "metadata": {
        "id": "WizMbavrYD8k"
      },
      "execution_count": 23,
      "outputs": []
    },
    {
      "cell_type": "markdown",
      "metadata": {
        "id": "mSVb093TvthH"
      },
      "source": [
        ">>**(b)** Our task in this question is to estimate parameters a, b, and c, assuming that we only observed x_noisy"
      ]
    },
    {
      "cell_type": "code",
      "execution_count": 41,
      "metadata": {
        "id": "cX6yFodEvthH",
        "colab": {
          "base_uri": "https://localhost:8080/",
          "height": 282
        },
        "outputId": "3b76b613-6e4b-4cd9-935b-162f49fb55eb"
      },
      "outputs": [
        {
          "output_type": "display_data",
          "data": {
            "text/plain": [
              "<Figure size 432x288 with 0 Axes>"
            ]
          },
          "metadata": {}
        },
        {
          "output_type": "display_data",
          "data": {
            "text/plain": [
              "<Figure size 432x288 with 1 Axes>"
            ],
            "image/png": "[encoded data removed]"
          },
          "metadata": {
            "needs_background": "light"
          }
        }
      ],
      "source": [
        "# TODO: Plot the observed noisy data below (time vs displacement)\n",
        "# Plotting figure\n",
        "fig = plt.figure()\n",
        "fig, ax = plt.subplots()\n",
        "\n",
        "ax.plot(t, x_noisy, label='Noise')\n",
        "ax.plot(t, x_analytic, label='Signal')\n",
        "\n",
        "plt.legend()\n",
        "plt.show()"
      ]
    },
    {
      "cell_type": "markdown",
      "metadata": {
        "id": "IeBj73pevthI"
      },
      "source": [
        ">> **(c)** Real-world data is often noisy and denoising can help to reduce the noise. Denoise the above data to create x_denoised:"
      ]
    },
    {
      "cell_type": "code",
      "execution_count": 25,
      "metadata": {
        "id": "zus0e3bJvthI"
      },
      "outputs": [],
      "source": [
        "# denoising\n",
        "N, Wn = 5, 0.03   # Feel free to modify N and Wn as you see fit!\n",
        "b, a = signal.butter(N, Wn, analog=False)   # module from scipy\n",
        "x_denoised = signal.filtfilt(b,a,x_noisy)"
      ]
    },
    {
      "cell_type": "code",
      "execution_count": 26,
      "metadata": {
        "id": "bmfCY55LvthI",
        "colab": {
          "base_uri": "https://localhost:8080/",
          "height": 282
        },
        "outputId": "bc83931c-b950-4665-812f-270e26c6e55d"
      },
      "outputs": [
        {
          "output_type": "display_data",
          "data": {
            "text/plain": [
              "<Figure size 432x288 with 0 Axes>"
            ]
          },
          "metadata": {}
        },
        {
          "output_type": "display_data",
          "data": {
            "text/plain": [
              "<Figure size 432x288 with 1 Axes>"
            ],
            "image/png": "[encoded data removed]"
          },
          "metadata": {
            "needs_background": "light"
          }
        }
      ],
      "source": [
        "# TODO: Plot and insert legend to differentiate x_noisy and x_denoised vs time (on same plot)\n",
        "fig = plt.figure()\n",
        "fig, ax = plt.subplots()\n",
        "\n",
        "ax.plot(t, x_noisy, label='Noise')\n",
        "ax.plot(t, x_denoised, label='Signal')\n",
        "\n",
        "plt.legend()\n",
        "plt.show()"
      ]
    },
    {
      "cell_type": "markdown",
      "metadata": {
        "id": "f0nn9OyJvthI"
      },
      "source": [
        "**Part 2**: Compute derivatives x' and x'' to estimate a, b, and c given x"
      ]
    },
    {
      "cell_type": "markdown",
      "metadata": {
        "id": "SlosVpFZvthJ"
      },
      "source": [
        "\n",
        ">>**a** Using the ([forward method (finite difference)](https://en.wikipedia.org/wiki/Finite_difference)).\n",
        "compute $x'$ and $x''$ for both x_noisy and x_denoised"
      ]
    },
    {
      "cell_type": "code",
      "execution_count": 37,
      "metadata": {
        "id": "OdLVrQ1PvthJ"
      },
      "outputs": [],
      "source": [
        "#TODO: Complete the function below\n",
        "def first_derivative(X, dt):\n",
        "  first_derivative = np.diff(X) / dt\n",
        "  return first_derivative\n",
        "\n",
        "dt_noisy = first_derivative(x_noisy, 0.001)\n",
        "dt_denoised = first_derivative(x_denoised, 0.001)"
      ]
    },
    {
      "cell_type": "code",
      "execution_count": 38,
      "metadata": {
        "id": "a--kAycJvthJ"
      },
      "outputs": [],
      "source": [
        "#TODO: Complete the function below\n",
        "def second_derivative(X, dt):\n",
        "  second_derivative = np.diff(X) / dt\n",
        "  return second_derivative\n",
        "\n",
        "dtdt_noisy = second_derivative(dt_noisy, 0.001)\n",
        "dtdt_denoised = second_derivative(dt_denoised, 0.001)"
      ]
    },
    {
      "cell_type": "code",
      "execution_count": 39,
      "metadata": {
        "id": "pwuz41glvthK"
      },
      "outputs": [],
      "source": [
        "def get_derivatives (X):\n",
        "    dt = t[1] - t[0] # time difference\n",
        "    X_prime =  first_derivative(deepcopy(X), dt)\n",
        "    X_prime_squared = second_derivative(deepcopy(X_prime), dt) \n",
        "    # adjust to make equal lengths arrays\n",
        "    return X[2:], X_prime[1:], X_prime_squared\n",
        "    \n",
        "    \n",
        "# for noisy data \n",
        "x, x_prime, x_prime_squared = get_derivatives(x_noisy)\n",
        "\n",
        "# for denoised data\n",
        "x1, x_prime1, x_prime_squared1 = get_derivatives(x_denoised)"
      ]
    },
    {
      "cell_type": "code",
      "execution_count": 46,
      "metadata": {
        "id": "U6aeKMKMvthK",
        "colab": {
          "base_uri": "https://localhost:8080/",
          "height": 628
        },
        "outputId": "ee7da42b-f7cc-45d4-a1a0-c5e56fec2750"
      },
      "outputs": [
        {
          "output_type": "error",
          "ename": "ValueError",
          "evalue": "ignored",
          "traceback": [
            "\u001b[0;31m---------------------------------------------------------------------------\u001b[0m",
            "\u001b[0;31mValueError\u001b[0m                                Traceback (most recent call last)",
            "\u001b[0;32m<ipython-input-46-997e202753f1>\u001b[0m in \u001b[0;36m<module>\u001b[0;34m\u001b[0m\n\u001b[1;32m     15\u001b[0m   \u001b[0mplt\u001b[0m\u001b[0;34m.\u001b[0m\u001b[0mshow\u001b[0m\u001b[0;34m(\u001b[0m\u001b[0;34m)\u001b[0m\u001b[0;34m\u001b[0m\u001b[0;34m\u001b[0m\u001b[0m\n\u001b[1;32m     16\u001b[0m \u001b[0;34m\u001b[0m\u001b[0m\n\u001b[0;32m---> 17\u001b[0;31m \u001b[0mplot_figs\u001b[0m\u001b[0;34m(\u001b[0m\u001b[0;34m\"x_noisy\"\u001b[0m\u001b[0;34m,\u001b[0m \u001b[0mx_noisy\u001b[0m\u001b[0;34m,\u001b[0m \u001b[0mdt_noisy\u001b[0m\u001b[0;34m,\u001b[0m \u001b[0mdtdt_noisy\u001b[0m\u001b[0;34m)\u001b[0m\u001b[0;34m\u001b[0m\u001b[0;34m\u001b[0m\u001b[0m\n\u001b[0m\u001b[1;32m     18\u001b[0m \u001b[0mplot_figs\u001b[0m\u001b[0;34m(\u001b[0m\u001b[0;34m\"x_denoised\"\u001b[0m\u001b[0;34m,\u001b[0m \u001b[0mx_denoised\u001b[0m\u001b[0;34m,\u001b[0m \u001b[0mdt_denoised\u001b[0m\u001b[0;34m,\u001b[0m \u001b[0mdtdt_denoised\u001b[0m\u001b[0;34m)\u001b[0m\u001b[0;34m\u001b[0m\u001b[0;34m\u001b[0m\u001b[0m\n",
            "\u001b[0;32m<ipython-input-46-997e202753f1>\u001b[0m in \u001b[0;36mplot_figs\u001b[0;34m(title, x, x_first, x_second)\u001b[0m\n\u001b[1;32m      8\u001b[0m \u001b[0;34m\u001b[0m\u001b[0m\n\u001b[1;32m      9\u001b[0m   \u001b[0max\u001b[0m\u001b[0;34m.\u001b[0m\u001b[0mplot\u001b[0m\u001b[0;34m(\u001b[0m\u001b[0mt\u001b[0m\u001b[0;34m,\u001b[0m \u001b[0mx\u001b[0m\u001b[0;34m,\u001b[0m \u001b[0mlabel\u001b[0m\u001b[0;34m=\u001b[0m\u001b[0;34m'f(d)'\u001b[0m\u001b[0;34m)\u001b[0m\u001b[0;34m\u001b[0m\u001b[0;34m\u001b[0m\u001b[0m\n\u001b[0;32m---> 10\u001b[0;31m   \u001b[0max\u001b[0m\u001b[0;34m.\u001b[0m\u001b[0mplot\u001b[0m\u001b[0;34m(\u001b[0m\u001b[0mt\u001b[0m\u001b[0;34m,\u001b[0m \u001b[0mx_first\u001b[0m\u001b[0;34m,\u001b[0m \u001b[0mlabel\u001b[0m\u001b[0;34m=\u001b[0m\u001b[0;34m'f\\'(t)'\u001b[0m\u001b[0;34m)\u001b[0m\u001b[0;34m\u001b[0m\u001b[0;34m\u001b[0m\u001b[0m\n\u001b[0m\u001b[1;32m     11\u001b[0m   \u001b[0max\u001b[0m\u001b[0;34m.\u001b[0m\u001b[0mplot\u001b[0m\u001b[0;34m(\u001b[0m\u001b[0mt\u001b[0m\u001b[0;34m,\u001b[0m \u001b[0mx_second\u001b[0m\u001b[0;34m,\u001b[0m \u001b[0mlabel\u001b[0m\u001b[0;34m=\u001b[0m\u001b[0;34m'f\\'\\'(t)'\u001b[0m\u001b[0;34m)\u001b[0m\u001b[0;34m\u001b[0m\u001b[0;34m\u001b[0m\u001b[0m\n\u001b[1;32m     12\u001b[0m \u001b[0;34m\u001b[0m\u001b[0m\n",
            "\u001b[0;32m/usr/local/lib/python3.7/dist-packages/matplotlib/axes/_axes.py\u001b[0m in \u001b[0;36mplot\u001b[0;34m(self, scalex, scaley, data, *args, **kwargs)\u001b[0m\n\u001b[1;32m   1645\u001b[0m         \"\"\"\n\u001b[1;32m   1646\u001b[0m         \u001b[0mkwargs\u001b[0m \u001b[0;34m=\u001b[0m \u001b[0mcbook\u001b[0m\u001b[0;34m.\u001b[0m\u001b[0mnormalize_kwargs\u001b[0m\u001b[0;34m(\u001b[0m\u001b[0mkwargs\u001b[0m\u001b[0;34m,\u001b[0m \u001b[0mmlines\u001b[0m\u001b[0;34m.\u001b[0m\u001b[0mLine2D\u001b[0m\u001b[0;34m)\u001b[0m\u001b[0;34m\u001b[0m\u001b[0;34m\u001b[0m\u001b[0m\n\u001b[0;32m-> 1647\u001b[0;31m         \u001b[0mlines\u001b[0m \u001b[0;34m=\u001b[0m \u001b[0;34m[\u001b[0m\u001b[0;34m*\u001b[0m\u001b[0mself\u001b[0m\u001b[0;34m.\u001b[0m\u001b[0m_get_lines\u001b[0m\u001b[0;34m(\u001b[0m\u001b[0;34m*\u001b[0m\u001b[0margs\u001b[0m\u001b[0;34m,\u001b[0m \u001b[0mdata\u001b[0m\u001b[0;34m=\u001b[0m\u001b[0mdata\u001b[0m\u001b[0;34m,\u001b[0m \u001b[0;34m**\u001b[0m\u001b[0mkwargs\u001b[0m\u001b[0;34m)\u001b[0m\u001b[0;34m]\u001b[0m\u001b[0;34m\u001b[0m\u001b[0;34m\u001b[0m\u001b[0m\n\u001b[0m\u001b[1;32m   1648\u001b[0m         \u001b[0;32mfor\u001b[0m \u001b[0mline\u001b[0m \u001b[0;32min\u001b[0m \u001b[0mlines\u001b[0m\u001b[0;34m:\u001b[0m\u001b[0;34m\u001b[0m\u001b[0;34m\u001b[0m\u001b[0m\n\u001b[1;32m   1649\u001b[0m             \u001b[0mself\u001b[0m\u001b[0;34m.\u001b[0m\u001b[0madd_line\u001b[0m\u001b[0;34m(\u001b[0m\u001b[0mline\u001b[0m\u001b[0;34m)\u001b[0m\u001b[0;34m\u001b[0m\u001b[0;34m\u001b[0m\u001b[0m\n",
            "\u001b[0;32m/usr/local/lib/python3.7/dist-packages/matplotlib/axes/_base.py\u001b[0m in \u001b[0;36m__call__\u001b[0;34m(self, *args, **kwargs)\u001b[0m\n\u001b[1;32m    214\u001b[0m                 \u001b[0mthis\u001b[0m \u001b[0;34m+=\u001b[0m \u001b[0margs\u001b[0m\u001b[0;34m[\u001b[0m\u001b[0;36m0\u001b[0m\u001b[0;34m]\u001b[0m\u001b[0;34m,\u001b[0m\u001b[0;34m\u001b[0m\u001b[0;34m\u001b[0m\u001b[0m\n\u001b[1;32m    215\u001b[0m                 \u001b[0margs\u001b[0m \u001b[0;34m=\u001b[0m \u001b[0margs\u001b[0m\u001b[0;34m[\u001b[0m\u001b[0;36m1\u001b[0m\u001b[0;34m:\u001b[0m\u001b[0;34m]\u001b[0m\u001b[0;34m\u001b[0m\u001b[0;34m\u001b[0m\u001b[0m\n\u001b[0;32m--> 216\u001b[0;31m             \u001b[0;32myield\u001b[0m \u001b[0;32mfrom\u001b[0m \u001b[0mself\u001b[0m\u001b[0;34m.\u001b[0m\u001b[0m_plot_args\u001b[0m\u001b[0;34m(\u001b[0m\u001b[0mthis\u001b[0m\u001b[0;34m,\u001b[0m \u001b[0mkwargs\u001b[0m\u001b[0;34m)\u001b[0m\u001b[0;34m\u001b[0m\u001b[0;34m\u001b[0m\u001b[0m\n\u001b[0m\u001b[1;32m    217\u001b[0m \u001b[0;34m\u001b[0m\u001b[0m\n\u001b[1;32m    218\u001b[0m     \u001b[0;32mdef\u001b[0m \u001b[0mget_next_color\u001b[0m\u001b[0;34m(\u001b[0m\u001b[0mself\u001b[0m\u001b[0;34m)\u001b[0m\u001b[0;34m:\u001b[0m\u001b[0;34m\u001b[0m\u001b[0;34m\u001b[0m\u001b[0m\n",
            "\u001b[0;32m/usr/local/lib/python3.7/dist-packages/matplotlib/axes/_base.py\u001b[0m in \u001b[0;36m_plot_args\u001b[0;34m(self, tup, kwargs)\u001b[0m\n\u001b[1;32m    340\u001b[0m \u001b[0;34m\u001b[0m\u001b[0m\n\u001b[1;32m    341\u001b[0m         \u001b[0;32mif\u001b[0m \u001b[0mx\u001b[0m\u001b[0;34m.\u001b[0m\u001b[0mshape\u001b[0m\u001b[0;34m[\u001b[0m\u001b[0;36m0\u001b[0m\u001b[0;34m]\u001b[0m \u001b[0;34m!=\u001b[0m \u001b[0my\u001b[0m\u001b[0;34m.\u001b[0m\u001b[0mshape\u001b[0m\u001b[0;34m[\u001b[0m\u001b[0;36m0\u001b[0m\u001b[0;34m]\u001b[0m\u001b[0;34m:\u001b[0m\u001b[0;34m\u001b[0m\u001b[0;34m\u001b[0m\u001b[0m\n\u001b[0;32m--> 342\u001b[0;31m             raise ValueError(f\"x and y must have same first dimension, but \"\n\u001b[0m\u001b[1;32m    343\u001b[0m                              f\"have shapes {x.shape} and {y.shape}\")\n\u001b[1;32m    344\u001b[0m         \u001b[0;32mif\u001b[0m \u001b[0mx\u001b[0m\u001b[0;34m.\u001b[0m\u001b[0mndim\u001b[0m \u001b[0;34m>\u001b[0m \u001b[0;36m2\u001b[0m \u001b[0;32mor\u001b[0m \u001b[0my\u001b[0m\u001b[0;34m.\u001b[0m\u001b[0mndim\u001b[0m \u001b[0;34m>\u001b[0m \u001b[0;36m2\u001b[0m\u001b[0;34m:\u001b[0m\u001b[0;34m\u001b[0m\u001b[0;34m\u001b[0m\u001b[0m\n",
            "\u001b[0;31mValueError\u001b[0m: x and y must have same first dimension, but have shapes (1000,) and (999,)"
          ]
        },
        {
          "output_type": "display_data",
          "data": {
            "text/plain": [
              "<Figure size 432x288 with 0 Axes>"
            ]
          },
          "metadata": {}
        },
        {
          "output_type": "display_data",
          "data": {
            "text/plain": [
              "<Figure size 432x288 with 1 Axes>"
            ],
            "image/png": "[encoded data removed]"
          },
          "metadata": {
            "needs_background": "light"
          }
        }
      ],
      "source": [
        "# TO DO: Fill the function below\n",
        "import sympy\n",
        "\n",
        "def plot_figs (title, x, x_first, x_second):\n",
        "  #TD DO: On same graph, plot x, x', x''\n",
        "  fig = plt.figure()\n",
        "  fig, ax = plt.subplots()\n",
        "\n",
        "  ax.plot(t, x, label='f(d)')\n",
        "  ax.plot(t, x_first, label='f\\'(t)')\n",
        "  ax.plot(t, x_second, label='f\\'\\'(t)')\n",
        "\n",
        "  plt.title(title)\n",
        "  plt.legend()\n",
        "  plt.show()\n",
        "\n",
        "plot_figs(\"x_noisy\", x_noisy, dt_noisy, dtdt_noisy)\n",
        "plot_figs(\"x_denoised\", x_denoised, dt_denoised, dtdt_denoised)"
      ]
    },
    {
      "cell_type": "markdown",
      "metadata": {
        "id": "UjmyanjOvthK"
      },
      "source": [
        ">>**(b)** How do the derivative plots compare for the noisy vs the denoised samples? Whats the effect of denoising? What happens when we adjust the NOISY_FACTOR (see Part 1a)?"
      ]
    },
    {
      "cell_type": "code",
      "execution_count": null,
      "metadata": {
        "id": "ckmtqTNHvthK"
      },
      "outputs": [],
      "source": [
        "# TODO: Your answer in Markdown\n",
        "# The plot for the denoised plot is much smoother than the plot for the noisy."
      ]
    },
    {
      "cell_type": "markdown",
      "metadata": {
        "id": "MNT2XUMSvthK"
      },
      "source": [
        ">>**(c)** Now we have x, x' and x''. Since g(t) = 0; we can estimate a, b, and c via regression. If we assume c = 1, \n",
        "then Equation 1 can be written as:\n",
        "    \n",
        "    \n",
        "$$𝑎𝑥″+𝑏𝑥′ =  -x \\tag{3}$$\n",
        "\n",
        "\n",
        ">>>From Equation 3, we can perform [linear regression](https://scikit-learn.org/stable/modules/generated/sklearn.linear_model.LinearRegression.html) to estimate parameters a and b. Using -x as your dependent variable, and x' and x'' as your independent variables. Train a regression model below:\n",
        "\n",
        "\n"
      ]
    },
    {
      "cell_type": "code",
      "execution_count": null,
      "metadata": {
        "id": "JgYIPs3zvthL"
      },
      "outputs": [],
      "source": [
        "#TODO: Fill the function below\n",
        "\n",
        "def train_model (X, X_first, X_second):\n",
        "    \"\"\" X - original x, X_first - first derivative, X_second - second derivative \"\"\"\n",
        "    \n",
        "    # TODO: Using Equation 3 with independent variable, (X'' and X'), dependent variable (-X).\n",
        "    #       Fit a linear regression model\n",
        "    \n",
        "    # return the regression coefficients and the model (which we will be a and b)\n",
        "    return model.coef_\n",
        "\n",
        "# train regression models for the noisy and denoised data\n",
        "coeff_noisy  = train_model(x, x_prime, x_prime_squared)   # noisy data\n",
        "coeff_denoised = train_model(x1, x_prime1, x_prime_squared1)   # denoised data"
      ]
    },
    {
      "cell_type": "markdown",
      "metadata": {
        "id": "8lNzZbXsvthL"
      },
      "source": [
        "**Part 3**  From the model coefficients, we can identify parameters $a$ and $b$ and we know that $c = 1$. Now, our task is to \n",
        "predict how good our model can predict the entire dataset. "
      ]
    },
    {
      "cell_type": "code",
      "execution_count": null,
      "metadata": {
        "id": "zMj5NVkJvthL"
      },
      "outputs": [],
      "source": [
        "a_noisy, b_noisy = coeff_original \n",
        "a_denoised, b_denoised = coeff_denoised \n",
        "\n",
        "print('For the noisy sample: (a = {}, b = {}, c = 1)'.format(a_noisy, b_noisy))\n",
        "print('For the denoised sample: (a = {}, b = {}, c = 1)'.format(a_denoised, b_denoised))\n",
        "print(\"The analytic solution has (a = 1, b = 0.125, and c = 1)\")\n"
      ]
    },
    {
      "cell_type": "markdown",
      "metadata": {
        "id": "CJL5s5ZgvthL"
      },
      "source": [
        ">>**(a)** How do estimated parameters from the noisy and denoised samples compare to the analytic parameters? "
      ]
    },
    {
      "cell_type": "code",
      "execution_count": null,
      "metadata": {
        "id": "sxU5zG89vthM"
      },
      "outputs": [],
      "source": [
        "# TODO: Your answer"
      ]
    },
    {
      "cell_type": "markdown",
      "metadata": {
        "id": "sI0y-STdvthM"
      },
      "source": [
        ">> **(b)** From Equation 3, $$x = -1*(ax'' + bx') \\tag{4}$$ \n",
        "We will use this equation to test how good our parameters predict the analytic solution (given x' and x'')."
      ]
    },
    {
      "cell_type": "code",
      "execution_count": null,
      "metadata": {
        "id": "nhx3bfO6vthM"
      },
      "outputs": [],
      "source": [
        "# get derivatives on entire dataset \n",
        "X, X_prime, X_prime_squared = get_derivatives(x_analytic)\n",
        "\n",
        "\n",
        "# TODO: Use Equation 3 to compute X\n",
        "def compute_x (X_first, X_second, a, b):\n",
        "    \n",
        "    # Fill here\n",
        "    return X\n",
        "\n",
        "# TODO: Predict Y for the noisy sample, and the denoised sample \n",
        "x_pred_noisy = compute_x(X_prime, X_prime_squared, a_noisy, b_noisy)\n",
        "x_pred_denoised  = compute_x(X_prime, X_prime_squared, a_denoised, b_denoised)\n",
        "\n"
      ]
    },
    {
      "cell_type": "code",
      "execution_count": null,
      "metadata": {
        "id": "_3TQlrLSvthM"
      },
      "outputs": [],
      "source": [
        "\n",
        "# adjust t to fit dimensions of predictions \n",
        "LEN_T = len(t)\n",
        "t_original = t[:LEN_T-2]\n",
        "x_original = x_analytic[:LEN_T -2]\n",
        "\n",
        "\n",
        "# Plots to show how well our parameters fit the data from the analytic solution\n",
        "fig, axes = plt.subplots(1, 2, figsize = (15, 5))\n",
        "axes[0].plot(t_original, x_original, '*', color = 'green', label = 'analytic')\n",
        "axes[0].plot(t_original, x_pred_noisy, '*', color = 'red', label = 'noisy prediction')\n",
        "\n",
        "axes[1].plot(t_original, x_pred_denoised, '*', color = 'blue', label = 'denoised prediction')\n",
        "axes[1].plot(t_original, x_original, '*', color = 'green', label = 'analytic')\n",
        "\n",
        "axes[0].legend()\n",
        "axes[1].legend()\n",
        "\n",
        "# This shades the seen part (in creating the model -yellow), but the model\n",
        "# extends to the unseen white part\n",
        "axes[0].axvspan(0, t[len_t], color='y', alpha=0.5, lw=0)\n",
        "axes[1].axvspan(0, t[len_t], color='y', alpha=0.5, lw=0)\n",
        "\n",
        "axes[0].set_xlabel('time')\n",
        "axes[0].set_ylabel('displacement')\n",
        "axes[1].set_ylabel('time')\n",
        "axes[1].set_ylabel('displacement')\n"
      ]
    },
    {
      "cell_type": "markdown",
      "metadata": {
        "id": "xHyss5qQvthN"
      },
      "source": [
        ">>**(c)** How do these two plots compare? On the same graph, plot the relative errors to compare how x_pred noisy and x_pred_denoised differ from x_original (if necessary, use a logarithmic scale). $$ RE(true, pred) =|true -pred|/|true|$$ What conclusion do you get from the relative errors?"
      ]
    },
    {
      "cell_type": "code",
      "execution_count": null,
      "metadata": {
        "id": "yBw8sFpKvthN"
      },
      "outputs": [],
      "source": [
        "# Plots here"
      ]
    },
    {
      "cell_type": "markdown",
      "metadata": {
        "id": "H0XFTPJVvthO"
      },
      "source": [
        ">>**(d)** In real-world scenarios, we often dont have x_analytic but only the noisy sample. How would you ensure if \n",
        "the parameters you obtained are good enough if you only have x_noisy?"
      ]
    },
    {
      "cell_type": "code",
      "execution_count": null,
      "metadata": {
        "id": "lJyGFeaBvthO"
      },
      "outputs": [],
      "source": [
        "# Answer here\n",
        "# You could experiment with different models as well as preform model quantization and model analysis."
      ]
    }
  ],
  "metadata": {
    "colab": {
      "collapsed_sections": [],
      "provenance": [],
      "include_colab_link": true
    },
    "kernelspec": {
      "display_name": "Python 3",
      "language": "python",
      "name": "python3"
    },
    "language_info": {
      "codemirror_mode": {
        "name": "ipython",
        "version": 3
      },
      "file_extension": ".py",
      "mimetype": "text/x-python",
      "name": "python",
      "nbconvert_exporter": "python",
      "pygments_lexer": "ipython3",
      "version": "3.8.3"
    }
  },
  "nbformat": 4,
  "nbformat_minor": 0
}